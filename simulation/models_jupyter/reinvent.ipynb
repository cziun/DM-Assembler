{
 "cells": [
  {
   "cell_type": "markdown",
   "metadata": {},
   "source": [
    "# How to run REINVENT\n",
    "\n",
    "Clone the reinvent-benchmarking github repo. More details found there."
   ]
  },
  {
   "cell_type": "code",
   "execution_count": null,
   "metadata": {},
   "outputs": [],
   "source": [
    "!git clone https://github.com/gkwt/reinvent-benchmarking.git"
   ]
  },
  {
   "cell_type": "markdown",
   "metadata": {},
   "source": [
    "## Define fitness function from tartarus"
   ]
  },
  {
   "cell_type": "markdown",
   "metadata": {},
   "source": [
    "Add the fitness function into the `custom.py` file of the repo. Default is the logP fitness function."
   ]
  },
  {
   "cell_type": "code",
   "execution_count": null,
   "metadata": {},
   "outputs": [],
   "source": [
    "import sys, os\n",
    "ROOT_DIR = '..'\n",
    "sys.path.append(ROOT_DIR)\n",
    "sys.path.append('reinvent-benchmarking')\n",
    "\n",
    "\n",
    "from tartarus import pce\n",
    "\n",
    "def fitness_function(smi: str):\n",
    "    dipole, hl_gap, lumo, obj, pce_1, pce_2, sas = pce.get_properties(smi)\n",
    "    return pce_1 - sas"
   ]
  },
  {
   "cell_type": "markdown",
   "metadata": {},
   "source": [
    "## Get the imports"
   ]
  },
  {
   "cell_type": "code",
   "execution_count": null,
   "metadata": {},
   "outputs": [],
   "source": [
    "import os, sys\n",
    "import pandas as pd\n",
    "\n",
    "from data_structs import canonicalize_smiles_from_file, construct_vocabulary, write_smiles_to_file\n",
    "from train_prior import pretrain\n",
    "from train_agent import train_agent"
   ]
  },
  {
   "cell_type": "markdown",
   "metadata": {},
   "source": [
    "## Prepare the dataset and vocabulary"
   ]
  },
  {
   "cell_type": "code",
   "execution_count": null,
   "metadata": {},
   "outputs": [],
   "source": [
    "\n",
    "data_path = os.path.join(ROOT_DIR, 'datasets')\n",
    "filename = 'hce.csv'\n",
    "sep = ','\n",
    "header = 'infer'\n",
    "smile_name = 'smiles'\n",
    "\n",
    "# dataset load\n",
    "fname = os.path.join(data_path, filename)\n",
    "data = pd.read_csv(fname, sep=sep, header=header)\n",
    "smiles = data[smile_name]\n",
    "\n",
    "if not os.path.isdir('data'):\n",
    "    os.mkdir('data')\n",
    "\n",
    "# create smi file\n",
    "with open(os.path.join('data', 'data.smi'), 'w') as f:\n",
    "    for smi in smiles:\n",
    "        f.write(smi+'\\n')\n",
    "\n",
    "smiles_file = 'data/data.smi'\n",
    "print(\"Reading smiles...\")\n",
    "smiles_list = canonicalize_smiles_from_file(smiles_file)\n",
    "print(\"Constructing vocabulary...\")\n",
    "voc_chars = construct_vocabulary(smiles_list)\n",
    "write_smiles_to_file(smiles_list, \"data/mols_filtered.smi\")"
   ]
  },
  {
   "cell_type": "markdown",
   "metadata": {},
   "source": [
    "## Pretrain the network"
   ]
  },
  {
   "cell_type": "code",
   "execution_count": null,
   "metadata": {},
   "outputs": [],
   "source": [
    "num_epochs = 100\n",
    "verbose = False\n",
    "train_ratio = 0.8\n",
    "\n",
    "pretrain(num_epochs=num_epochs, verbose=verbose, train_ratio=train_ratio)"
   ]
  },
  {
   "cell_type": "markdown",
   "metadata": {},
   "source": [
    "## Start climbing algorithm for REINVENT"
   ]
  },
  {
   "cell_type": "code",
   "execution_count": null,
   "metadata": {},
   "outputs": [],
   "source": [
    "train_agent(\n",
    "    scoring_function='custom_score',\n",
    "    batch_size = 500,\n",
    "    n_steps = 10\n",
    ")"
   ]
  }
 ],
 "metadata": {
  "language_info": {
   "name": "python"
  },
  "orig_nbformat": 4
 },
 "nbformat": 4,
 "nbformat_minor": 2
}
