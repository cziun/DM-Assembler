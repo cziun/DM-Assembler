{
 "cells": [
  {
   "cell_type": "markdown",
   "metadata": {},
   "source": [
    "# How to run JANUS and JANUS + C"
   ]
  },
  {
   "cell_type": "code",
   "execution_count": null,
   "metadata": {},
   "outputs": [],
   "source": [
    "!pip install janus-ga"
   ]
  },
  {
   "cell_type": "markdown",
   "metadata": {},
   "source": [
    "## Define fitness function from tartarus"
   ]
  },
  {
   "cell_type": "code",
   "execution_count": null,
   "metadata": {},
   "outputs": [],
   "source": [
    "import sys, os\n",
    "sys.path.append('..')\n",
    "\n",
    "from tartarus import pce\n",
    "\n",
    "def fitness_function(smi: str):\n",
    "    dipole, hl_gap, lumo, obj, pce_1, pce_2, sas = pce.get_properties(smi)\n",
    "    return pce_1 - sas"
   ]
  },
  {
   "cell_type": "markdown",
   "metadata": {},
   "source": [
    "## Get imports and set SELFIES constraints"
   ]
  },
  {
   "cell_type": "code",
   "execution_count": null,
   "metadata": {},
   "outputs": [],
   "source": [
    "from janus import JANUS\n",
    "from rdkit import Chem, RDLogger\n",
    "from rdkit.Chem import AllChem, RDConfig, Descriptors\n",
    "RDLogger.DisableLog(\"rdApp.*\")\n",
    "\n",
    "import pandas as pd\n",
    "import selfies\n",
    "\n",
    "default_constraints = selfies.get_semantic_constraints()\n",
    "new_constraints = default_constraints\n",
    "new_constraints['S'] = 2\n",
    "new_constraints['P'] = 3\n",
    "selfies.set_semantic_constraints(new_constraints)  # update constraints"
   ]
  },
  {
   "cell_type": "markdown",
   "metadata": {},
   "source": [
    "## Get the dataset for running"
   ]
  },
  {
   "cell_type": "code",
   "execution_count": null,
   "metadata": {},
   "outputs": [],
   "source": [
    "data_path       = '../datasets/hce.csv'\n",
    "df = pd.read_csv(data_path)\n",
    "\n",
    "# creating starting_smiles.txt\n",
    "with open('starting_smiles.txt', 'w') as f:\n",
    "    for i, r in df.iterrows():\n",
    "        f.write(r['smiles']+'\\n')"
   ]
  },
  {
   "cell_type": "markdown",
   "metadata": {},
   "source": [
    "## Start the JANUS agent and run GA\n",
    "\n",
    "To use JANUS+C, set `use_classifier = True` in `params_dict`."
   ]
  },
  {
   "cell_type": "code",
   "execution_count": null,
   "metadata": {},
   "outputs": [],
   "source": [
    "def custom_filter(smi: str):\n",
    "    \"\"\" Function that takes in a smile and returns a boolean.\n",
    "    True indicates the smiles PASSES the filter.\n",
    "    \"\"\"\n",
    "    # smiles length filter\n",
    "    if len(smi) > 81 or len(smi) == 0:\n",
    "        return False\n",
    "    else:\n",
    "        return True\n",
    "\n",
    "# all parameters to be set, below are defaults\n",
    "params_dict = {\n",
    "    # Number of iterations that JANUS runs for\n",
    "    \"generations\": 10,\n",
    "\n",
    "    # The number of molecules for which fitness calculations are done, \n",
    "    # exploration and exploitation each have their own population\n",
    "    \"generation_size\": 250,\n",
    "    \n",
    "    # Number of molecules that are exchanged between the exploration and exploitation\n",
    "    \"num_exchanges\": 5,\n",
    "\n",
    "    # Callable filtering function (None defaults to no filtering)\n",
    "    \"custom_filter\": custom_filter,\n",
    "\n",
    "    # Fragments from starting population used to extend alphabet for mutations\n",
    "    \"use_fragments\": True,\n",
    "\n",
    "    # An option to use a classifier as selection bias\n",
    "    \"use_classifier\": False,\n",
    "}\n",
    "\n",
    "agent = JANUS(\n",
    "    work_dir = 'RESULTS',\n",
    "    fitness_function = fitness_function,\n",
    "    start_population = 'starting_smiles.txt'\n",
    "    **params_dict\n",
    ")\n",
    "\n",
    "agent.run()\n"
   ]
  }
 ],
 "metadata": {
  "language_info": {
   "name": "python"
  },
  "orig_nbformat": 4
 },
 "nbformat": 4,
 "nbformat_minor": 2
}
